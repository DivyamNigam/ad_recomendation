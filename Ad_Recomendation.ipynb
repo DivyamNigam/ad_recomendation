{
  "nbformat": 4,
  "nbformat_minor": 0,
  "metadata": {
    "colab": {
      "provenance": [],
      "gpuType": "T4",
      "authorship_tag": "ABX9TyPJpNDGopHHP0qGkOpKtjGm",
      "include_colab_link": true
    },
    "kernelspec": {
      "name": "python3",
      "display_name": "Python 3"
    },
    "language_info": {
      "name": "python"
    },
    "accelerator": "GPU"
  },
  "cells": [
    {
      "cell_type": "markdown",
      "metadata": {
        "id": "view-in-github",
        "colab_type": "text"
      },
      "source": [
        "<a href=\"https://colab.research.google.com/github/DivyamNigam/ad_recomendation/blob/main/Ad_Recomendation.ipynb\" target=\"_parent\"><img src=\"https://colab.research.google.com/assets/colab-badge.svg\" alt=\"Open In Colab\"/></a>"
      ]
    },
    {
      "cell_type": "code",
      "source": [
        "!pip install transformers\n",
        "!pip install sentence-transformers\n",
        "!pip install --upgrade transformers\n",
        "!pip install nltk gensim\n"
      ],
      "metadata": {
        "colab": {
          "base_uri": "https://localhost:8080/"
        },
        "id": "9_KccIIEuKvF",
        "outputId": "91fbcfcd-c9b5-4ce5-9d0d-ce7625bc4164"
      },
      "execution_count": null,
      "outputs": [
        {
          "output_type": "stream",
          "name": "stdout",
          "text": [
            "Requirement already satisfied: transformers in /usr/local/lib/python3.10/dist-packages (4.41.2)\n",
            "Requirement already satisfied: filelock in /usr/local/lib/python3.10/dist-packages (from transformers) (3.15.4)\n",
            "Requirement already satisfied: huggingface-hub<1.0,>=0.23.0 in /usr/local/lib/python3.10/dist-packages (from transformers) (0.23.4)\n",
            "Requirement already satisfied: numpy>=1.17 in /usr/local/lib/python3.10/dist-packages (from transformers) (1.25.2)\n",
            "Requirement already satisfied: packaging>=20.0 in /usr/local/lib/python3.10/dist-packages (from transformers) (24.1)\n",
            "Requirement already satisfied: pyyaml>=5.1 in /usr/local/lib/python3.10/dist-packages (from transformers) (6.0.1)\n",
            "Requirement already satisfied: regex!=2019.12.17 in /usr/local/lib/python3.10/dist-packages (from transformers) (2024.5.15)\n",
            "Requirement already satisfied: requests in /usr/local/lib/python3.10/dist-packages (from transformers) (2.31.0)\n",
            "Requirement already satisfied: tokenizers<0.20,>=0.19 in /usr/local/lib/python3.10/dist-packages (from transformers) (0.19.1)\n",
            "Requirement already satisfied: safetensors>=0.4.1 in /usr/local/lib/python3.10/dist-packages (from transformers) (0.4.3)\n",
            "Requirement already satisfied: tqdm>=4.27 in /usr/local/lib/python3.10/dist-packages (from transformers) (4.66.4)\n",
            "Requirement already satisfied: fsspec>=2023.5.0 in /usr/local/lib/python3.10/dist-packages (from huggingface-hub<1.0,>=0.23.0->transformers) (2023.6.0)\n",
            "Requirement already satisfied: typing-extensions>=3.7.4.3 in /usr/local/lib/python3.10/dist-packages (from huggingface-hub<1.0,>=0.23.0->transformers) (4.12.2)\n",
            "Requirement already satisfied: charset-normalizer<4,>=2 in /usr/local/lib/python3.10/dist-packages (from requests->transformers) (3.3.2)\n",
            "Requirement already satisfied: idna<4,>=2.5 in /usr/local/lib/python3.10/dist-packages (from requests->transformers) (3.7)\n",
            "Requirement already satisfied: urllib3<3,>=1.21.1 in /usr/local/lib/python3.10/dist-packages (from requests->transformers) (2.0.7)\n",
            "Requirement already satisfied: certifi>=2017.4.17 in /usr/local/lib/python3.10/dist-packages (from requests->transformers) (2024.7.4)\n",
            "Collecting sentence-transformers\n",
            "  Downloading sentence_transformers-3.0.1-py3-none-any.whl (227 kB)\n",
            "\u001b[2K     \u001b[90m━━━━━━━━━━━━━━━━━━━━━━━━━━━━━━━━━━━━━━━━\u001b[0m \u001b[32m227.1/227.1 kB\u001b[0m \u001b[31m4.8 MB/s\u001b[0m eta \u001b[36m0:00:00\u001b[0m\n",
            "\u001b[?25hRequirement already satisfied: transformers<5.0.0,>=4.34.0 in /usr/local/lib/python3.10/dist-packages (from sentence-transformers) (4.41.2)\n",
            "Requirement already satisfied: tqdm in /usr/local/lib/python3.10/dist-packages (from sentence-transformers) (4.66.4)\n",
            "Requirement already satisfied: torch>=1.11.0 in /usr/local/lib/python3.10/dist-packages (from sentence-transformers) (2.3.0+cu121)\n",
            "Requirement already satisfied: numpy in /usr/local/lib/python3.10/dist-packages (from sentence-transformers) (1.25.2)\n",
            "Requirement already satisfied: scikit-learn in /usr/local/lib/python3.10/dist-packages (from sentence-transformers) (1.2.2)\n",
            "Requirement already satisfied: scipy in /usr/local/lib/python3.10/dist-packages (from sentence-transformers) (1.11.4)\n",
            "Requirement already satisfied: huggingface-hub>=0.15.1 in /usr/local/lib/python3.10/dist-packages (from sentence-transformers) (0.23.4)\n",
            "Requirement already satisfied: Pillow in /usr/local/lib/python3.10/dist-packages (from sentence-transformers) (9.4.0)\n",
            "Requirement already satisfied: filelock in /usr/local/lib/python3.10/dist-packages (from huggingface-hub>=0.15.1->sentence-transformers) (3.15.4)\n",
            "Requirement already satisfied: fsspec>=2023.5.0 in /usr/local/lib/python3.10/dist-packages (from huggingface-hub>=0.15.1->sentence-transformers) (2023.6.0)\n",
            "Requirement already satisfied: packaging>=20.9 in /usr/local/lib/python3.10/dist-packages (from huggingface-hub>=0.15.1->sentence-transformers) (24.1)\n",
            "Requirement already satisfied: pyyaml>=5.1 in /usr/local/lib/python3.10/dist-packages (from huggingface-hub>=0.15.1->sentence-transformers) (6.0.1)\n",
            "Requirement already satisfied: requests in /usr/local/lib/python3.10/dist-packages (from huggingface-hub>=0.15.1->sentence-transformers) (2.31.0)\n",
            "Requirement already satisfied: typing-extensions>=3.7.4.3 in /usr/local/lib/python3.10/dist-packages (from huggingface-hub>=0.15.1->sentence-transformers) (4.12.2)\n",
            "Requirement already satisfied: sympy in /usr/local/lib/python3.10/dist-packages (from torch>=1.11.0->sentence-transformers) (1.13.0)\n",
            "Requirement already satisfied: networkx in /usr/local/lib/python3.10/dist-packages (from torch>=1.11.0->sentence-transformers) (3.3)\n",
            "Requirement already satisfied: jinja2 in /usr/local/lib/python3.10/dist-packages (from torch>=1.11.0->sentence-transformers) (3.1.4)\n",
            "Collecting nvidia-cuda-nvrtc-cu12==12.1.105 (from torch>=1.11.0->sentence-transformers)\n",
            "  Using cached nvidia_cuda_nvrtc_cu12-12.1.105-py3-none-manylinux1_x86_64.whl (23.7 MB)\n",
            "Collecting nvidia-cuda-runtime-cu12==12.1.105 (from torch>=1.11.0->sentence-transformers)\n",
            "  Using cached nvidia_cuda_runtime_cu12-12.1.105-py3-none-manylinux1_x86_64.whl (823 kB)\n",
            "Collecting nvidia-cuda-cupti-cu12==12.1.105 (from torch>=1.11.0->sentence-transformers)\n",
            "  Using cached nvidia_cuda_cupti_cu12-12.1.105-py3-none-manylinux1_x86_64.whl (14.1 MB)\n",
            "Collecting nvidia-cudnn-cu12==8.9.2.26 (from torch>=1.11.0->sentence-transformers)\n",
            "  Using cached nvidia_cudnn_cu12-8.9.2.26-py3-none-manylinux1_x86_64.whl (731.7 MB)\n",
            "Collecting nvidia-cublas-cu12==12.1.3.1 (from torch>=1.11.0->sentence-transformers)\n",
            "  Using cached nvidia_cublas_cu12-12.1.3.1-py3-none-manylinux1_x86_64.whl (410.6 MB)\n",
            "Collecting nvidia-cufft-cu12==11.0.2.54 (from torch>=1.11.0->sentence-transformers)\n",
            "  Using cached nvidia_cufft_cu12-11.0.2.54-py3-none-manylinux1_x86_64.whl (121.6 MB)\n",
            "Collecting nvidia-curand-cu12==10.3.2.106 (from torch>=1.11.0->sentence-transformers)\n",
            "  Using cached nvidia_curand_cu12-10.3.2.106-py3-none-manylinux1_x86_64.whl (56.5 MB)\n",
            "Collecting nvidia-cusolver-cu12==11.4.5.107 (from torch>=1.11.0->sentence-transformers)\n",
            "  Using cached nvidia_cusolver_cu12-11.4.5.107-py3-none-manylinux1_x86_64.whl (124.2 MB)\n",
            "Collecting nvidia-cusparse-cu12==12.1.0.106 (from torch>=1.11.0->sentence-transformers)\n",
            "  Using cached nvidia_cusparse_cu12-12.1.0.106-py3-none-manylinux1_x86_64.whl (196.0 MB)\n",
            "Collecting nvidia-nccl-cu12==2.20.5 (from torch>=1.11.0->sentence-transformers)\n",
            "  Using cached nvidia_nccl_cu12-2.20.5-py3-none-manylinux2014_x86_64.whl (176.2 MB)\n",
            "Collecting nvidia-nvtx-cu12==12.1.105 (from torch>=1.11.0->sentence-transformers)\n",
            "  Using cached nvidia_nvtx_cu12-12.1.105-py3-none-manylinux1_x86_64.whl (99 kB)\n",
            "Requirement already satisfied: triton==2.3.0 in /usr/local/lib/python3.10/dist-packages (from torch>=1.11.0->sentence-transformers) (2.3.0)\n",
            "Collecting nvidia-nvjitlink-cu12 (from nvidia-cusolver-cu12==11.4.5.107->torch>=1.11.0->sentence-transformers)\n",
            "  Downloading nvidia_nvjitlink_cu12-12.5.82-py3-none-manylinux2014_x86_64.whl (21.3 MB)\n",
            "\u001b[2K     \u001b[90m━━━━━━━━━━━━━━━━━━━━━━━━━━━━━━━━━━━━━━━━\u001b[0m \u001b[32m21.3/21.3 MB\u001b[0m \u001b[31m44.3 MB/s\u001b[0m eta \u001b[36m0:00:00\u001b[0m\n",
            "\u001b[?25hRequirement already satisfied: regex!=2019.12.17 in /usr/local/lib/python3.10/dist-packages (from transformers<5.0.0,>=4.34.0->sentence-transformers) (2024.5.15)\n",
            "Requirement already satisfied: tokenizers<0.20,>=0.19 in /usr/local/lib/python3.10/dist-packages (from transformers<5.0.0,>=4.34.0->sentence-transformers) (0.19.1)\n",
            "Requirement already satisfied: safetensors>=0.4.1 in /usr/local/lib/python3.10/dist-packages (from transformers<5.0.0,>=4.34.0->sentence-transformers) (0.4.3)\n",
            "Requirement already satisfied: joblib>=1.1.1 in /usr/local/lib/python3.10/dist-packages (from scikit-learn->sentence-transformers) (1.4.2)\n",
            "Requirement already satisfied: threadpoolctl>=2.0.0 in /usr/local/lib/python3.10/dist-packages (from scikit-learn->sentence-transformers) (3.5.0)\n",
            "Requirement already satisfied: MarkupSafe>=2.0 in /usr/local/lib/python3.10/dist-packages (from jinja2->torch>=1.11.0->sentence-transformers) (2.1.5)\n",
            "Requirement already satisfied: charset-normalizer<4,>=2 in /usr/local/lib/python3.10/dist-packages (from requests->huggingface-hub>=0.15.1->sentence-transformers) (3.3.2)\n",
            "Requirement already satisfied: idna<4,>=2.5 in /usr/local/lib/python3.10/dist-packages (from requests->huggingface-hub>=0.15.1->sentence-transformers) (3.7)\n",
            "Requirement already satisfied: urllib3<3,>=1.21.1 in /usr/local/lib/python3.10/dist-packages (from requests->huggingface-hub>=0.15.1->sentence-transformers) (2.0.7)\n",
            "Requirement already satisfied: certifi>=2017.4.17 in /usr/local/lib/python3.10/dist-packages (from requests->huggingface-hub>=0.15.1->sentence-transformers) (2024.7.4)\n",
            "Requirement already satisfied: mpmath<1.4,>=1.1.0 in /usr/local/lib/python3.10/dist-packages (from sympy->torch>=1.11.0->sentence-transformers) (1.3.0)\n",
            "Installing collected packages: nvidia-nvtx-cu12, nvidia-nvjitlink-cu12, nvidia-nccl-cu12, nvidia-curand-cu12, nvidia-cufft-cu12, nvidia-cuda-runtime-cu12, nvidia-cuda-nvrtc-cu12, nvidia-cuda-cupti-cu12, nvidia-cublas-cu12, nvidia-cusparse-cu12, nvidia-cudnn-cu12, nvidia-cusolver-cu12, sentence-transformers\n",
            "Successfully installed nvidia-cublas-cu12-12.1.3.1 nvidia-cuda-cupti-cu12-12.1.105 nvidia-cuda-nvrtc-cu12-12.1.105 nvidia-cuda-runtime-cu12-12.1.105 nvidia-cudnn-cu12-8.9.2.26 nvidia-cufft-cu12-11.0.2.54 nvidia-curand-cu12-10.3.2.106 nvidia-cusolver-cu12-11.4.5.107 nvidia-cusparse-cu12-12.1.0.106 nvidia-nccl-cu12-2.20.5 nvidia-nvjitlink-cu12-12.5.82 nvidia-nvtx-cu12-12.1.105 sentence-transformers-3.0.1\n",
            "Requirement already satisfied: transformers in /usr/local/lib/python3.10/dist-packages (4.41.2)\n",
            "Collecting transformers\n",
            "  Downloading transformers-4.42.4-py3-none-any.whl (9.3 MB)\n",
            "\u001b[2K     \u001b[90m━━━━━━━━━━━━━━━━━━━━━━━━━━━━━━━━━━━━━━━━\u001b[0m \u001b[32m9.3/9.3 MB\u001b[0m \u001b[31m23.5 MB/s\u001b[0m eta \u001b[36m0:00:00\u001b[0m\n",
            "\u001b[?25hRequirement already satisfied: filelock in /usr/local/lib/python3.10/dist-packages (from transformers) (3.15.4)\n",
            "Requirement already satisfied: huggingface-hub<1.0,>=0.23.2 in /usr/local/lib/python3.10/dist-packages (from transformers) (0.23.4)\n",
            "Requirement already satisfied: numpy<2.0,>=1.17 in /usr/local/lib/python3.10/dist-packages (from transformers) (1.25.2)\n",
            "Requirement already satisfied: packaging>=20.0 in /usr/local/lib/python3.10/dist-packages (from transformers) (24.1)\n",
            "Requirement already satisfied: pyyaml>=5.1 in /usr/local/lib/python3.10/dist-packages (from transformers) (6.0.1)\n",
            "Requirement already satisfied: regex!=2019.12.17 in /usr/local/lib/python3.10/dist-packages (from transformers) (2024.5.15)\n",
            "Requirement already satisfied: requests in /usr/local/lib/python3.10/dist-packages (from transformers) (2.31.0)\n",
            "Requirement already satisfied: safetensors>=0.4.1 in /usr/local/lib/python3.10/dist-packages (from transformers) (0.4.3)\n",
            "Requirement already satisfied: tokenizers<0.20,>=0.19 in /usr/local/lib/python3.10/dist-packages (from transformers) (0.19.1)\n",
            "Requirement already satisfied: tqdm>=4.27 in /usr/local/lib/python3.10/dist-packages (from transformers) (4.66.4)\n",
            "Requirement already satisfied: fsspec>=2023.5.0 in /usr/local/lib/python3.10/dist-packages (from huggingface-hub<1.0,>=0.23.2->transformers) (2023.6.0)\n",
            "Requirement already satisfied: typing-extensions>=3.7.4.3 in /usr/local/lib/python3.10/dist-packages (from huggingface-hub<1.0,>=0.23.2->transformers) (4.12.2)\n",
            "Requirement already satisfied: charset-normalizer<4,>=2 in /usr/local/lib/python3.10/dist-packages (from requests->transformers) (3.3.2)\n",
            "Requirement already satisfied: idna<4,>=2.5 in /usr/local/lib/python3.10/dist-packages (from requests->transformers) (3.7)\n",
            "Requirement already satisfied: urllib3<3,>=1.21.1 in /usr/local/lib/python3.10/dist-packages (from requests->transformers) (2.0.7)\n",
            "Requirement already satisfied: certifi>=2017.4.17 in /usr/local/lib/python3.10/dist-packages (from requests->transformers) (2024.7.4)\n",
            "Installing collected packages: transformers\n",
            "  Attempting uninstall: transformers\n",
            "    Found existing installation: transformers 4.41.2\n",
            "    Uninstalling transformers-4.41.2:\n",
            "      Successfully uninstalled transformers-4.41.2\n",
            "Successfully installed transformers-4.42.4\n",
            "Requirement already satisfied: nltk in /usr/local/lib/python3.10/dist-packages (3.8.1)\n",
            "Requirement already satisfied: gensim in /usr/local/lib/python3.10/dist-packages (4.3.2)\n",
            "Requirement already satisfied: click in /usr/local/lib/python3.10/dist-packages (from nltk) (8.1.7)\n",
            "Requirement already satisfied: joblib in /usr/local/lib/python3.10/dist-packages (from nltk) (1.4.2)\n",
            "Requirement already satisfied: regex>=2021.8.3 in /usr/local/lib/python3.10/dist-packages (from nltk) (2024.5.15)\n",
            "Requirement already satisfied: tqdm in /usr/local/lib/python3.10/dist-packages (from nltk) (4.66.4)\n",
            "Requirement already satisfied: numpy>=1.18.5 in /usr/local/lib/python3.10/dist-packages (from gensim) (1.25.2)\n",
            "Requirement already satisfied: scipy>=1.7.0 in /usr/local/lib/python3.10/dist-packages (from gensim) (1.11.4)\n",
            "Requirement already satisfied: smart-open>=1.8.1 in /usr/local/lib/python3.10/dist-packages (from gensim) (7.0.4)\n",
            "Requirement already satisfied: wrapt in /usr/local/lib/python3.10/dist-packages (from smart-open>=1.8.1->gensim) (1.14.1)\n"
          ]
        }
      ]
    },
    {
      "cell_type": "code",
      "source": [
        "'electronics': ['smartphone', 'laptop', 'headphones', 'camera', 'tablet', 'wearable', 'gaming console', 'charger'],\n",
        "    'clothing': ['shoes', 'jacket', 'jeans', 't-shirt', 'dress', 'sweater', 'scarf', 'socks'],\n",
        "    'home_decor': ['furniture', 'lamp', 'rug', 'painting', 'cushion', 'clock', 'vase', 'mirror'],\n",
        "    'sports_outdoors': ['bike', 'tent', 'backpack', 'kayak', 'binoculars', 'hiking shoes', 'fishing rod', 'skateboard'],\n",
        "    'health_beauty': ['skincare', 'perfume', 'vitamins', 'hair dryer', 'yoga mat', 'razor', 'makeup', 'toothbrush'],\n",
        "    'books': ['novel', 'biography', 'cookbook', 'self-help', 'fiction', 'poetry', 'history', 'children\\'s book'],\n",
        "    'food': ['coffee', 'chocolate', 'wine', 'tea', 'snacks', 'olive oil', 'spices', 'juice', 'pizza', 'burger','pasta'],\n",
        "    'toys_games': ['puzzle', 'action figure', 'board game', 'doll', 'remote control car', 'building blocks', 'card game', 'plush toy'],\n",
        "    'travel': ['hotel', 'flight', 'cruise', 'tour', 'rental car', 'travel insurance', 'backpacker hostel', 'safari'],\n",
        "    'tech_gadgets': ['smartwatch', 'drone', 'VR headset', 'printer', 'robot vacuum', 'wireless speaker', 'GPS tracker', 'power bank']"
      ],
      "metadata": {
        "id": "gjSAaTefuH7q"
      },
      "execution_count": null,
      "outputs": []
    },
    {
      "cell_type": "code",
      "source": [
        "import nltk\n",
        "from sentence_transformers import SentenceTransformer, util\n",
        "import numpy as np\n",
        "\n",
        "# Download necessary NLTK data\n",
        "nltk.download('wordnet')\n",
        "nltk.download('omw-1.4')\n",
        "\n",
        "# Define categories and their keywords\n",
        "categories = {\n",
        "    'electronics': ['smartphone', 'laptop', 'headphones', 'camera', 'tablet', 'wearable', 'gaming console', 'charger'],\n",
        "    'clothing': ['shoes', 'jacket', 'jeans', 't-shirt', 'dress', 'sweater', 'scarf', 'socks'],\n",
        "    'home_decor': ['furniture', 'lamp', 'rug', 'painting', 'cushion', 'clock', 'vase', 'mirror'],\n",
        "    'sports_outdoors': ['bike', 'tent', 'backpack', 'kayak', 'binoculars', 'hiking shoes', 'fishing rod', 'skateboard'],\n",
        "    'health_beauty': ['skincare', 'perfume', 'vitamins', 'hair dryer', 'yoga mat', 'razor', 'makeup', 'toothbrush'],\n",
        "    'books': ['novel', 'biography', 'cookbook', 'self-help', 'fiction', 'poetry', 'history', 'children\\'s book'],\n",
        "    'food': ['coffee', 'chocolate', 'wine', 'tea', 'snacks', 'olive oil', 'spices', 'juice', 'pizza', 'burger','pasta', 'pastry'],\n",
        "    'toys_games': ['puzzle', 'action figure', 'board game', 'doll', 'remote control car', 'building blocks', 'card game', 'plush toy', 'drone', 'toy helicopter'],\n",
        "    'travel': ['hotel', 'flight', 'cruise', 'tour', 'rental car', 'travel insurance', 'backpacker hostel', 'safari'],\n",
        "    'tech_gadgets': ['smartwatch', 'drone', 'VR headset', 'printer', 'robot vacuum', 'wireless speaker', 'GPS tracker', 'power bank']\n",
        "}\n",
        "\n"
      ],
      "metadata": {
        "colab": {
          "base_uri": "https://localhost:8080/"
        },
        "id": "nUhShW-VhzwY",
        "outputId": "7872a83d-caf2-4cf4-d234-d90b6c51b553"
      },
      "execution_count": null,
      "outputs": [
        {
          "output_type": "stream",
          "name": "stderr",
          "text": [
            "[nltk_data] Downloading package wordnet to /root/nltk_data...\n",
            "[nltk_data]   Package wordnet is already up-to-date!\n",
            "[nltk_data] Downloading package omw-1.4 to /root/nltk_data...\n",
            "[nltk_data]   Package omw-1.4 is already up-to-date!\n"
          ]
        }
      ]
    },
    {
      "cell_type": "code",
      "source": [
        "model = SentenceTransformer('all-MiniLM-L6-v2')\n",
        "\n",
        "# Function to calculate similarity using Sentence-Transformers embeddings\n",
        "def calculate_similarity(input_keyword, category_keywords):\n",
        "    input_embedding = model.encode(input_keyword, convert_to_tensor=True)\n",
        "    category_embeddings = model.encode(category_keywords, convert_to_tensor=True)\n",
        "\n",
        "    similarities = util.pytorch_cos_sim(input_embedding, category_embeddings)\n",
        "    return similarities\n",
        "\n",
        "# Function to find the closest category for a new keyword\n",
        "def find_category(input_keyword):\n",
        "    best_category = None\n",
        "    best_similarity = -1\n",
        "\n",
        "    for category, keywords in categories.items():\n",
        "        similarities = calculate_similarity(input_keyword, keywords)\n",
        "        max_similarity = similarities.max().item()\n",
        "\n",
        "        if max_similarity > best_similarity:\n",
        "            best_similarity = max_similarity\n",
        "            best_category = category\n",
        "\n",
        "    return best_category\n",
        "\n",
        "\n",
        "input_keyword = input(\"Enter a new keyword: \").strip()\n",
        "category = find_category(input_keyword)\n",
        "print(f'The keyword \"{input_keyword}\" belongs to the category: {category}')\n"
      ],
      "metadata": {
        "colab": {
          "base_uri": "https://localhost:8080/"
        },
        "id": "GleYVfoXo6HA",
        "outputId": "bfe34cc0-0ec5-4514-a6db-c7c1b9e9e8c7"
      },
      "execution_count": null,
      "outputs": [
        {
          "output_type": "stream",
          "name": "stdout",
          "text": [
            "Enter a new keyword: cake\n",
            "The keyword \"cake\" belongs to the category: food\n"
          ]
        }
      ]
    },
    {
      "cell_type": "markdown",
      "source": [
        "**Ignoring Categories processing Keywords to keywords in dataset**"
      ],
      "metadata": {
        "id": "ccz8dw59C5Xp"
      }
    },
    {
      "cell_type": "code",
      "source": [
        "import pandas as pd\n",
        "from sentence_transformers import SentenceTransformer, util\n",
        "import numpy as np\n",
        "\n",
        "df = pd.read_csv('/content/user_activity_keywords_with_category.csv')\n",
        "\n",
        "df['ad_keyword_embedding'] = df['ad_keywords'].apply(lambda x: model.encode(x))\n",
        "\n",
        "# Create user profiles by averaging embeddings of ads they interacted with\n",
        "user_profiles = {}\n",
        "for user_id, group in df.groupby('user_id'):\n",
        "    clicked_ads = group[group['activity'] == 1]['ad_keyword_embedding'].tolist()\n",
        "    if clicked_ads:\n",
        "        user_profiles[user_id] = np.mean(clicked_ads, axis=0)\n",
        "\n",
        "def recommend_users(new_ad_keyword, user_profiles, top_n=5):\n",
        "    # Create embedding for the new ad keyword\n",
        "    new_ad_embedding = model.encode(new_ad_keyword)\n",
        "\n",
        "    # Compute similarities with user profiles\n",
        "    similarities = []\n",
        "    for user_id, profile_embedding in user_profiles.items():\n",
        "        similarity = util.cos_sim(new_ad_embedding, profile_embedding).item()\n",
        "        similarities.append((user_id, similarity))\n",
        "\n",
        "    # Get top N users with highest similarity\n",
        "    top_users = sorted(similarities, key=lambda x: x[1], reverse=True)[:top_n]\n",
        "    return top_users\n",
        "\n",
        "# Example usage\n",
        "newkeyword = input(\"Enter a new keyword: \")\n",
        "top_users = recommend_users(new_keyword, user_profiles)\n",
        "print(\"Top users for the new ad keyword:\", top_users)\n"
      ],
      "metadata": {
        "colab": {
          "base_uri": "https://localhost:8080/"
        },
        "id": "OkBvgb-Uu6o7",
        "outputId": "22ac921a-426e-4f85-fb2b-0a31d89c96ca"
      },
      "execution_count": null,
      "outputs": [
        {
          "output_type": "stream",
          "name": "stdout",
          "text": [
            "Enter a new keyword: cake\n",
            "Top users for the new ad keyword: [(554, 0.5530642867088318), (602, 0.5355421900749207), (182, 0.5351800322532654), (91, 0.5251712799072266), (722, 0.5224948525428772)]\n"
          ]
        }
      ]
    },
    {
      "cell_type": "markdown",
      "source": [
        "**Processing on basis of category and keywords**"
      ],
      "metadata": {
        "id": "ycvAN8e8jBGU"
      }
    },
    {
      "cell_type": "code",
      "source": [
        "import pandas as pd\n",
        "from sentence_transformers import SentenceTransformer, util\n",
        "import numpy as np\n",
        "\n",
        "# Load the dataset\n",
        "df = pd.read_csv('/content/user_activity_keywords_with_category.csv')\n",
        "\n",
        "# Initialize the sentence transformer model\n",
        "model = SentenceTransformer('sentence-transformers/all-MiniLM-L6-v2')\n",
        "\n",
        "# Define keyword to category mapping\n",
        "keyword_to_category = {\n",
        "    'electronics': ['smartphone', 'laptop', 'headphones', 'camera', 'tablet', 'wearable', 'gaming console', 'charger'],\n",
        "    'clothing': ['shoes', 'jacket', 'jeans', 't-shirt', 'dress', 'sweater', 'scarf', 'socks'],\n",
        "    'home_decor': ['furniture', 'lamp', 'rug', 'painting', 'cushion', 'clock', 'vase', 'mirror'],\n",
        "    'sports_outdoors': ['bike', 'tent', 'backpack', 'kayak', 'binoculars', 'hiking shoes', 'fishing rod', 'skateboard'],\n",
        "    'health_beauty': ['skincare', 'perfume', 'vitamins', 'hair dryer', 'yoga mat', 'razor', 'makeup', 'toothbrush'],\n",
        "    'books': ['novel', 'biography', 'cookbook', 'self-help', 'fiction', 'poetry', 'history', 'children\\'s book'],\n",
        "    'food': ['coffee', 'chocolate', 'wine', 'tea', 'snacks', 'olive oil', 'spices', 'juice', 'pizza', 'burger','pasta', 'grain'],\n",
        "    'toys_games': ['puzzle', 'action figure', 'board game', 'doll', 'remote control car', 'building blocks', 'card game', 'plush toy'],\n",
        "    'travel': ['hotel', 'flight', 'cruise', 'tour', 'rental car', 'travel insurance', 'backpacker hostel', 'safari'],\n",
        "    'tech_gadgets': ['smartwatch', 'drone', 'VR headset', 'printer', 'robot vacuum', 'wireless speaker', 'GPS tracker', 'power bank']\n",
        "}\n",
        "\n"
      ],
      "metadata": {
        "id": "0yJDQ0ItFPjK"
      },
      "execution_count": null,
      "outputs": []
    },
    {
      "cell_type": "code",
      "source": [
        "from sentence_transformers import SentenceTransformer\n",
        "import pandas as pd\n",
        "from sklearn.metrics.pairwise import cosine_similarity\n",
        "import torch\n",
        "\n",
        "\n",
        "\n",
        "# Function to calculate similarity using Sentence-Transformers embeddings\n",
        "def calculate_similarity(input_keyword, category_keywords):\n",
        "    input_embedding = model.encode(input_keyword, convert_to_tensor=True)\n",
        "    category_embeddings = model.encode(category_keywords, convert_to_tensor=True)\n",
        "\n",
        "    similarities = util.pytorch_cos_sim(input_embedding, category_embeddings)\n",
        "    return similarities\n",
        "\n",
        "# Function to find the closest category for a new keyword\n",
        "def find_category(input_keyword):\n",
        "    best_category = None\n",
        "    best_similarity = -1\n",
        "\n",
        "    for category, keywords in categories.items():\n",
        "        similarities = calculate_similarity(input_keyword, keywords)\n",
        "        max_similarity = similarities.max().item()\n",
        "\n",
        "        if max_similarity > best_similarity:\n",
        "            best_similarity = max_similarity\n",
        "            best_category = category\n",
        "\n",
        "    return best_category\n",
        "\n",
        "# Example usage\n",
        "input_keyword = input(\"Enter a new keyword: \").strip()\n",
        "category = find_category(input_keyword)\n",
        "print(f'The keyword \"{input_keyword}\" belongs to the category: {category}')\n",
        "\n",
        "\n",
        "# Compute embeddings for the new keyword and ad_keywords\n",
        "keyword_embedding = model.encode(input_keyword, convert_to_tensor=True)\n",
        "\n",
        "# Filter users based on activity (activity == 1 means user clicked on ad)\n",
        "filtered_users = df[df['activity'] == 1]['user_id'].unique()\n",
        "\n",
        "# Group by user_id and encode all ad_keywords for each user who clicked on ads\n",
        "ad_keywords_embeddings = df[df['user_id'].isin(filtered_users)].groupby('user_id')['ad_keywords'].apply(lambda x: model.encode(list(x), convert_to_tensor=True)).reset_index()\n",
        "\n",
        "# Calculate cosine similarities\n",
        "similarities = []\n",
        "for index, embeddings in ad_keywords_embeddings.iterrows():\n",
        "    user_embedding = embeddings['ad_keywords']\n",
        "    similarity = torch.nn.CosineSimilarity(dim=1, eps=1e-6)(keyword_embedding, user_embedding)\n",
        "    similarities.append(similarity.mean().item())\n",
        "\n",
        "# Combine with user_ids and sort by similarity\n",
        "ad_keywords_embeddings['similarity'] = similarities\n",
        "sorted_users = ad_keywords_embeddings.sort_values(by='similarity', ascending=False)['user_id'].tolist()\n",
        "\n",
        "# Recommend top 5 users\n",
        "top_5_users = sorted_users[:5]\n",
        "\n",
        "print(f\"Top 5 users to recommend for '{input_keyword}': {top_5_users}\")\n",
        "\n"
      ],
      "metadata": {
        "colab": {
          "base_uri": "https://localhost:8080/"
        },
        "id": "8ejB5LifMChR",
        "outputId": "e92f4155-4237-4062-9476-746cacb4aaff"
      },
      "execution_count": null,
      "outputs": [
        {
          "output_type": "stream",
          "name": "stdout",
          "text": [
            "Enter a new keyword: gaming laptop\n",
            "The keyword \"gaming laptop\" belongs to the category: electronics\n",
            "Top 5 users to recommend for 'gaming laptop': [163, 18, 478, 422, 591]\n"
          ]
        }
      ]
    },
    {
      "cell_type": "code",
      "source": [],
      "metadata": {
        "id": "C4mb7WlRWksQ"
      },
      "execution_count": null,
      "outputs": []
    }
  ]
}